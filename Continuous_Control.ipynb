{
 "cells": [
  {
   "cell_type": "markdown",
   "metadata": {},
   "source": [
    "# Continuous Control with DDPG\n",
    "\n",
    "---\n",
    "\n",
    "This notebook implements Reacher Agent in Unity ML-Agents environment for the second project of the [Deep Reinforcement Learning Nanodegree](https://www.udacity.com/course/deep-reinforcement-learning-nanodegree--nd893) program. The Reacher Agent specifically implements Deep Deterministic Policy Gradient with Actor-Critic learning method.\n",
    "\n",
    "### 1. Start the Environment\n",
    "\n",
    "We begin by importing the necessary packages.  If the code cell below returns an error, please revisit the project instructions to double-check that you have installed [Unity ML-Agents](https://github.com/Unity-Technologies/ml-agents/blob/master/docs/Installation.md) and [NumPy](http://www.numpy.org/)."
   ]
  },
  {
   "cell_type": "code",
   "execution_count": 1,
   "metadata": {},
   "outputs": [],
   "source": [
    "from unityagents import UnityEnvironment\n",
    "import numpy as np\n",
    "from ddpg_agent import Agent\n",
    "import torch\n",
    "from collections import deque\n",
    "import matplotlib.pyplot as plt\n",
    "%matplotlib inline\n"
   ]
  },
  {
   "cell_type": "markdown",
   "metadata": {},
   "source": [
    "Next, we will start the environment!  **_Before running the code cell below_**, change the `file_name` parameter to match the location of the Unity environment that you downloaded.\n",
    "\n",
    "- **Mac**: `\"path/to/Reacher.app\"`\n",
    "- **Windows** (x86): `\"path/to/Reacher_Windows_x86/Reacher.exe\"`\n",
    "- **Windows** (x86_64): `\"path/to/Reacher_Windows_x86_64/Reacher.exe\"`\n",
    "- **Linux** (x86): `\"path/to/Reacher_Linux/Reacher.x86\"`\n",
    "- **Linux** (x86_64): `\"path/to/Reacher_Linux/Reacher.x86_64\"`\n",
    "- **Linux** (x86, headless): `\"path/to/Reacher_Linux_NoVis/Reacher.x86\"`\n",
    "- **Linux** (x86_64, headless): `\"path/to/Reacher_Linux_NoVis/Reacher.x86_64\"`\n",
    "\n",
    "For instance, if you are using a Mac, then you downloaded `Reacher.app`.  If this file is in the same folder as the notebook, then the line below should appear as follows:\n",
    "```\n",
    "env = UnityEnvironment(file_name=\"Reacher.app\")\n",
    "```"
   ]
  },
  {
   "cell_type": "code",
   "execution_count": 2,
   "metadata": {},
   "outputs": [
    {
     "name": "stderr",
     "output_type": "stream",
     "text": [
      "INFO:unityagents:\n",
      "'Academy' started successfully!\n",
      "Unity Academy name: Academy\n",
      "        Number of Brains: 1\n",
      "        Number of External Brains : 1\n",
      "        Lesson number : 0\n",
      "        Reset Parameters :\n",
      "\t\tgoal_speed -> 1.0\n",
      "\t\tgoal_size -> 5.0\n",
      "Unity brain name: ReacherBrain\n",
      "        Number of Visual Observations (per agent): 0\n",
      "        Vector Observation space type: continuous\n",
      "        Vector Observation space size (per agent): 33\n",
      "        Number of stacked Vector Observation: 1\n",
      "        Vector Action space type: continuous\n",
      "        Vector Action space size (per agent): 4\n",
      "        Vector Action descriptions: , , , \n"
     ]
    }
   ],
   "source": [
    "env = UnityEnvironment(file_name='Reacher_OneAgent.app')"
   ]
  },
  {
   "cell_type": "markdown",
   "metadata": {},
   "source": [
    "Environments contain **_brains_** which are responsible for deciding the actions of their associated agents. Here we check for the first brain available, and set it as the default brain we will be controlling from Python."
   ]
  },
  {
   "cell_type": "code",
   "execution_count": 3,
   "metadata": {},
   "outputs": [],
   "source": [
    "# get the default brain\n",
    "brain_name = env.brain_names[0]\n",
    "brain = env.brains[brain_name]"
   ]
  },
  {
   "cell_type": "markdown",
   "metadata": {},
   "source": [
    "### 2. Examine the State and Action Spaces\n",
    "\n",
    "In this environment, a double-jointed arm can move to target locations. A reward of `+0.1` is provided for each step that the agent's hand is in the goal location. Thus, the goal of your agent is to maintain its position at the target location for as many time steps as possible.\n",
    "\n",
    "The observation space consists of `33` variables corresponding to position, rotation, velocity, and angular velocities of the arm.  Each action is a vector with four numbers, corresponding to torque applicable to two joints.  Every entry in the action vector must be a number between `-1` and `1`.\n",
    "\n",
    "Run the code cell below to print some information about the environment."
   ]
  },
  {
   "cell_type": "code",
   "execution_count": 4,
   "metadata": {},
   "outputs": [
    {
     "name": "stdout",
     "output_type": "stream",
     "text": [
      "Number of agents: 1\n",
      "Size of each action: 4\n",
      "[[ 0.00000000e+00 -4.00000000e+00  0.00000000e+00  1.00000000e+00\n",
      "  -0.00000000e+00 -0.00000000e+00 -4.37113883e-08  0.00000000e+00\n",
      "   0.00000000e+00  0.00000000e+00  0.00000000e+00  0.00000000e+00\n",
      "   0.00000000e+00  0.00000000e+00 -1.00000000e+01  0.00000000e+00\n",
      "   1.00000000e+00 -0.00000000e+00 -0.00000000e+00 -4.37113883e-08\n",
      "   0.00000000e+00  0.00000000e+00  0.00000000e+00  0.00000000e+00\n",
      "   0.00000000e+00  0.00000000e+00  5.75471878e+00 -1.00000000e+00\n",
      "   5.55726671e+00  0.00000000e+00  1.00000000e+00  0.00000000e+00\n",
      "  -1.68164849e-01]]\n",
      "There are 1 agents. Each observes a state with length: 33\n",
      "The state for the first agent looks like: [ 0.00000000e+00 -4.00000000e+00  0.00000000e+00  1.00000000e+00\n",
      " -0.00000000e+00 -0.00000000e+00 -4.37113883e-08  0.00000000e+00\n",
      "  0.00000000e+00  0.00000000e+00  0.00000000e+00  0.00000000e+00\n",
      "  0.00000000e+00  0.00000000e+00 -1.00000000e+01  0.00000000e+00\n",
      "  1.00000000e+00 -0.00000000e+00 -0.00000000e+00 -4.37113883e-08\n",
      "  0.00000000e+00  0.00000000e+00  0.00000000e+00  0.00000000e+00\n",
      "  0.00000000e+00  0.00000000e+00  5.75471878e+00 -1.00000000e+00\n",
      "  5.55726671e+00  0.00000000e+00  1.00000000e+00  0.00000000e+00\n",
      " -1.68164849e-01]\n"
     ]
    }
   ],
   "source": [
    "# reset the environment\n",
    "env_info = env.reset(train_mode=False)[brain_name]\n",
    "\n",
    "# number of agents\n",
    "num_agents = len(env_info.agents)\n",
    "print('Number of agents:', num_agents)\n",
    "\n",
    "# size of each action\n",
    "action_size_env = brain.vector_action_space_size\n",
    "print('Size of each action:', action_size_env)\n",
    "\n",
    "# examine the state space \n",
    "states = env_info.vector_observations\n",
    "state_size_env = states.shape[1]\n",
    "print(states)\n",
    "print('There are {} agents. Each observes a state with length: {}'.format(states.shape[0], state_size_env))\n",
    "print('The state for the first agent looks like:', states[0])\n"
   ]
  },
  {
   "cell_type": "markdown",
   "metadata": {},
   "source": [
    "### 3. Train the Agent with Deep Deterministic Policy Gradient\n",
    "\n"
   ]
  },
  {
   "cell_type": "code",
   "execution_count": 5,
   "metadata": {},
   "outputs": [
    {
     "name": "stdout",
     "output_type": "stream",
     "text": [
      "Episode 20\tAverage Score: 0.43\tScore: 0.00\n",
      "Episode 40\tAverage Score: 0.71\tScore: 2.38\n",
      "Episode 60\tAverage Score: 1.07\tScore: 4.20\n",
      "Episode 80\tAverage Score: 1.24\tScore: 0.87\n",
      "Episode 100\tAverage Score: 1.67\tScore: 1.44\n",
      "Episode 120\tAverage Score: 2.39\tScore: 5.580\n",
      "Episode 140\tAverage Score: 3.87\tScore: 14.45\n",
      "Episode 160\tAverage Score: 5.41\tScore: 6.544\n",
      "Episode 180\tAverage Score: 7.97\tScore: 7.989\n",
      "Episode 200\tAverage Score: 11.05\tScore: 19.36\n",
      "Episode 220\tAverage Score: 13.13\tScore: 17.37\n",
      "Episode 240\tAverage Score: 14.86\tScore: 24.12\n",
      "Episode 260\tAverage Score: 17.71\tScore: 24.00\n",
      "Episode 280\tAverage Score: 19.18\tScore: 14.09\n",
      "Episode 300\tAverage Score: 18.80\tScore: 17.02\n",
      "Episode 320\tAverage Score: 20.22\tScore: 20.97\n",
      "Episode 340\tAverage Score: 20.56\tScore: 13.78\n",
      "Episode 360\tAverage Score: 19.73\tScore: 19.62\n",
      "Episode 380\tAverage Score: 20.03\tScore: 26.28\n",
      "Episode 400\tAverage Score: 21.75\tScore: 31.45\n",
      "Episode 420\tAverage Score: 23.13\tScore: 39.48\n",
      "Episode 440\tAverage Score: 25.24\tScore: 26.37\n",
      "Episode 460\tAverage Score: 27.16\tScore: 33.52\n",
      "Episode 480\tAverage Score: 28.38\tScore: 33.23\n",
      "Episode 500\tAverage Score: 29.64\tScore: 14.31\n",
      "Episode 520\tAverage Score: 30.34\tScore: 24.12\n",
      "Episode 540\tAverage Score: 31.26\tScore: 37.23\n",
      "Episode 560\tAverage Score: 32.09\tScore: 39.59\n",
      "Episode 580\tAverage Score: 33.29\tScore: 39.11\n",
      "Episode 600\tAverage Score: 33.89\tScore: 32.43\n",
      "Episode 620\tAverage Score: 35.07\tScore: 38.46\n",
      "Episode 640\tAverage Score: 35.80\tScore: 37.93\n",
      "Episode 660\tAverage Score: 36.80\tScore: 39.38\n",
      "Episode 680\tAverage Score: 37.43\tScore: 39.43\n",
      "Episode 700\tAverage Score: 38.13\tScore: 38.63\n",
      "Episode 720\tAverage Score: 38.25\tScore: 38.13\n",
      "Episode 740\tAverage Score: 38.21\tScore: 37.75\n",
      "Episode 760\tAverage Score: 38.22\tScore: 39.06\n",
      "Episode 780\tAverage Score: 38.04\tScore: 39.07\n",
      "Episode 800\tAverage Score: 37.97\tScore: 38.03\n",
      "Episode 820\tAverage Score: 37.94\tScore: 34.88\n",
      "Episode 840\tAverage Score: 38.17\tScore: 39.30\n",
      "Episode 860\tAverage Score: 38.35\tScore: 39.64\n",
      "Episode 880\tAverage Score: 38.52\tScore: 39.23\n",
      "Episode 900\tAverage Score: 38.76\tScore: 39.21\n",
      "Episode 920\tAverage Score: 38.88\tScore: 39.49\n",
      "Episode 940\tAverage Score: 38.91\tScore: 39.48\n",
      "Episode 960\tAverage Score: 38.74\tScore: 38.04\n",
      "Episode 980\tAverage Score: 38.88\tScore: 39.48\n",
      "Episode 1000\tAverage Score: 38.83\tScore: 39.44\n",
      "Episode 1020\tAverage Score: 38.80\tScore: 39.49\n",
      "Episode 1040\tAverage Score: 38.46\tScore: 39.26\n",
      "Episode 1060\tAverage Score: 38.55\tScore: 39.64\n",
      "Episode 1080\tAverage Score: 38.34\tScore: 37.65\n",
      "Episode 1100\tAverage Score: 38.26\tScore: 37.61\n",
      "Episode 1120\tAverage Score: 38.27\tScore: 38.65\n",
      "Episode 1140\tAverage Score: 38.37\tScore: 36.43\n",
      "Episode 1160\tAverage Score: 38.12\tScore: 34.28\n",
      "Episode 1180\tAverage Score: 38.13\tScore: 38.73\n",
      "Episode 1200\tAverage Score: 37.99\tScore: 39.35\n",
      "Episode 1220\tAverage Score: 37.52\tScore: 39.08\n",
      "Episode 1240\tAverage Score: 37.62\tScore: 32.54\n",
      "Episode 1260\tAverage Score: 37.45\tScore: 37.09\n",
      "Episode 1280\tAverage Score: 37.32\tScore: 38.88\n",
      "Episode 1300\tAverage Score: 37.48\tScore: 38.98\n",
      "Episode 1320\tAverage Score: 37.58\tScore: 37.39\n",
      "Episode 1340\tAverage Score: 37.47\tScore: 35.34\n",
      "Episode 1360\tAverage Score: 37.10\tScore: 24.59\n",
      "Episode 1380\tAverage Score: 36.13\tScore: 18.55\n",
      "Episode 1400\tAverage Score: 35.40\tScore: 39.53\n",
      "Episode 1420\tAverage Score: 34.69\tScore: 31.90\n",
      "Episode 1440\tAverage Score: 34.33\tScore: 39.52\n",
      "Episode 1460\tAverage Score: 34.52\tScore: 35.16\n",
      "Episode 1480\tAverage Score: 35.30\tScore: 38.76\n",
      "Episode 1500\tAverage Score: 35.87\tScore: 34.12\n",
      "Episode 1520\tAverage Score: 36.30\tScore: 37.43\n",
      "Episode 1540\tAverage Score: 36.26\tScore: 37.73\n",
      "Episode 1560\tAverage Score: 36.31\tScore: 30.67\n",
      "Episode 1580\tAverage Score: 35.73\tScore: 34.48\n",
      "Episode 1600\tAverage Score: 34.78\tScore: 33.35\n",
      "Episode 1620\tAverage Score: 34.38\tScore: 36.92\n",
      "Episode 1640\tAverage Score: 33.77\tScore: 35.88\n",
      "Episode 1660\tAverage Score: 33.38\tScore: 34.08\n",
      "Episode 1680\tAverage Score: 33.60\tScore: 35.86\n",
      "Episode 1700\tAverage Score: 34.38\tScore: 39.32\n",
      "Episode 1720\tAverage Score: 34.94\tScore: 36.96\n",
      "Episode 1740\tAverage Score: 35.98\tScore: 37.42\n",
      "Episode 1760\tAverage Score: 36.44\tScore: 35.79\n",
      "Episode 1780\tAverage Score: 37.06\tScore: 39.43\n",
      "Episode 1800\tAverage Score: 37.20\tScore: 32.60\n",
      "Episode 1820\tAverage Score: 37.21\tScore: 37.20\n",
      "Episode 1840\tAverage Score: 36.42\tScore: 37.14\n",
      "Episode 1860\tAverage Score: 36.62\tScore: 37.70\n",
      "Episode 1880\tAverage Score: 36.42\tScore: 39.45\n",
      "Episode 1900\tAverage Score: 36.51\tScore: 39.29\n",
      "Episode 1920\tAverage Score: 36.90\tScore: 39.52\n",
      "Episode 1940\tAverage Score: 37.55\tScore: 38.63\n",
      "Episode 1960\tAverage Score: 37.67\tScore: 39.55\n",
      "Episode 1980\tAverage Score: 37.75\tScore: 39.21\n",
      "Episode 2000\tAverage Score: 37.53\tScore: 37.97\n",
      "scores len  2000\n"
     ]
    },
    {
     "data": {
      "image/png": "[encoded data removed]",
      "text/plain": [
       "<Figure size 432x288 with 1 Axes>"
      ]
     },
     "metadata": {},
     "output_type": "display_data"
    }
   ],
   "source": [
    "#agents = Agent(state_size=state_size_env, action_size=action_size_env, random_seed=0)[num_agents]\n",
    "agents = [Agent(state_size=state_size_env, action_size=action_size_env, random_seed=i) for i in range(num_agents)]\n",
    "\n",
    "def ddpg(n_episodes=2000, max_t=1000):\n",
    "    scores_deque = deque(maxlen=100)\n",
    "    scores_agents = []\n",
    "    for i_episode in range(1, n_episodes+1):\n",
    "        env_info = env.reset(train_mode=True)[brain_name]     # reset the environment\n",
    "        states = env_info.vector_observations                  # get the current state (for each agent)\n",
    "        scores = np.zeros(num_agents)                          # initialize the score (for each agent)    \n",
    "        [agents[i].reset() for i in range(num_agents)]\n",
    "    \n",
    "        for t in range(max_t):\n",
    "            actions = [agents[i].act(states[i],False) for i in range(num_agents)]\n",
    "            actions = [np.clip(actions[i], -1, 1)  for i in range(num_agents)]\n",
    "            #print(actions)\n",
    "            \n",
    "            env_info = env.step(actions)[brain_name]           # send all actions to tne environment\n",
    "            next_states = env_info.vector_observations         # get next state (for each agent)\n",
    "            rewards = env_info.rewards                         # get reward (for each agent)\n",
    "            dones = env_info.local_done                        # see if episode finished\n",
    "            scores += env_info.rewards                         # update the score (for each agent)\n",
    "            [agents[i].step(states[i], actions[i], rewards[i], next_states[i], dones[i]) for i in range(num_agents)]\n",
    "            states = next_states\n",
    "            \n",
    "            if np.any(dones):                                  # exit loop if episode finished\n",
    "                break \n",
    "                \n",
    "        scores_deque.append(scores)\n",
    "        scores_agents.append(scores)\n",
    "        #print(scores_agents)\n",
    "        print('\\rEpisode {}\\tAverage Score: {:.2f}\\tScore: {:.2f}'.format(i_episode, np.mean(scores_deque), np.mean(scores)), end=\"\")\n",
    "        if i_episode % 20 == 0:\n",
    "            print('\\rEpisode {}\\tAverage Score: {:.2f}'.format(i_episode, np.mean(scores_deque)))\n",
    "            torch.save(agents[0].actor_local.state_dict(), 'checkpoint_actor.pth')\n",
    "            torch.save(agents[0].critic_local.state_dict(), 'checkpoint_critic.pth')   \n",
    "    return scores_agents\n",
    "\n",
    "#scores = ddpg(n_episodes=10, max_t=130)\n",
    "\n",
    "\n",
    "scores = ddpg()\n",
    "print('scores len  {}'.format(len(scores)))\n",
    "\n",
    "fig = plt.figure()\n",
    "ax = fig.add_subplot(111)\n",
    "plt.plot(np.arange(1, len(scores)+1), scores)\n",
    "plt.ylabel('Score')\n",
    "plt.xlabel('Episode #')\n",
    "plt.show()\n",
    "fig.savefig('AverageScore.png')\n",
    "\n",
    "\n",
    "\n",
    "\n"
   ]
  },
  {
   "cell_type": "markdown",
   "metadata": {},
   "source": [
    "### 3. Run the Trained Agent\n",
    "\n",
    "Now we can load the saved parameters for the trained agent and see the agent reaching the ball."
   ]
  },
  {
   "cell_type": "code",
   "execution_count": 6,
   "metadata": {},
   "outputs": [
    {
     "name": "stdout",
     "output_type": "stream",
     "text": [
      "Total score (averaged over agents) this episode: 35.61999920383096\n"
     ]
    }
   ],
   "source": [
    "agents = [Agent(state_size=state_size_env, action_size=action_size_env, actor_chkpt_file=\"checkpoint_actor_final.pth\", critic_chkpt_file=\"checkpoint_critic_final.pth\", random_seed=0)]\n",
    "env_info = env.reset(train_mode=False)[brain_name]     # reset the environment    \n",
    "states = env_info.vector_observations                  # get the current state (for each agent)\n",
    "scores = np.zeros(num_agents)                          # initialize the score (for each agent)\n",
    "while True:\n",
    "    actions = [agents[i].act(states[i],False) for i in range(1)]\n",
    "    actions = [np.clip(actions[i], -1, 1)  for i in range(1)]\n",
    "    #print(actions)    \n",
    "        \n",
    "    env_info = env.step(actions)[brain_name]           # send all actions to tne environment\n",
    "    next_states = env_info.vector_observations         # get next state (for each agent)\n",
    "    rewards = env_info.rewards                         # get reward (for each agent)\n",
    "    dones = env_info.local_done                        # see if episode finished\n",
    "    scores += env_info.rewards                         # update the score (for each agent)\n",
    "    states = next_states                               # roll over states to next time step\n",
    "    if np.any(dones):                                  # exit loop if episode finished\n",
    "        break\n",
    "print('Total score (averaged over agents) this episode: {}'.format(np.mean(scores)))"
   ]
  },
  {
   "cell_type": "markdown",
   "metadata": {},
   "source": [
    "When finished, you can close the environment."
   ]
  },
  {
   "cell_type": "code",
   "execution_count": 7,
   "metadata": {},
   "outputs": [],
   "source": [
    "env.close()"
   ]
  },
  {
   "cell_type": "code",
   "execution_count": null,
   "metadata": {},
   "outputs": [],
   "source": []
  }
 ],
 "metadata": {
  "kernelspec": {
   "display_name": "drlnd",
   "language": "python",
   "name": "drlnd"
  },
  "language_info": {
   "codemirror_mode": {
    "name": "ipython",
    "version": 3
   },
   "file_extension": ".py",
   "mimetype": "text/x-python",
   "name": "python",
   "nbconvert_exporter": "python",
   "pygments_lexer": "ipython3",
   "version": "3.6.5"
  }
 },
 "nbformat": 4,
 "nbformat_minor": 2
}
